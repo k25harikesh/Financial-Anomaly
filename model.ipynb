{
 "cells": [
  {
   "cell_type": "code",
   "execution_count": 167,
   "metadata": {},
   "outputs": [],
   "source": [
    "import os\n",
    "import torch\n",
    "import numpy as np\n",
    "import pandas as pd\n",
    "import torch.nn as nn\n",
    "import matplotlib.pyplot as plt\n",
    "import torch.utils.data as data\n",
    "from sklearn.metrics import mean_squared_error\n",
    "from sklearn.preprocessing import StandardScaler\n",
    "from sklearn.model_selection import train_test_split\n",
    "\n",
    "# to handle categorical features\n",
    "from sklearn.pipeline import Pipeline\n",
    "from sklearn.compose import ColumnTransformer\n",
    "from sklearn.preprocessing import OneHotEncoder, LabelEncoder"
   ]
  },
  {
   "cell_type": "code",
   "execution_count": 168,
   "metadata": {},
   "outputs": [
    {
     "name": "stdout",
     "output_type": "stream",
     "text": [
      "          Timestamp TransactionID AccountID    Amount   Merchant  \\\n",
      "0  01-01-2023 08:00       TXN1127      ACC4  95071.92  MerchantH   \n",
      "1  01-01-2023 08:01       TXN1639     ACC10  15607.89  MerchantH   \n",
      "\n",
      "  TransactionType Location  \n",
      "0        Purchase    Tokyo  \n",
      "1        Purchase   London  \n"
     ]
    }
   ],
   "source": [
    "df = pd.read_csv(r\"data\\financial_anomaly_data.csv\")\n",
    "print(df.head(2))"
   ]
  },
  {
   "cell_type": "markdown",
   "metadata": {},
   "source": [
    "### Data Sanitisation"
   ]
  },
  {
   "cell_type": "code",
   "execution_count": 169,
   "metadata": {},
   "outputs": [
    {
     "name": "stdout",
     "output_type": "stream",
     "text": [
      "Timestamp          481\n",
      "TransactionID      481\n",
      "AccountID          481\n",
      "Amount             481\n",
      "Merchant           481\n",
      "TransactionType    481\n",
      "Location           481\n",
      "dtype: int64\n"
     ]
    }
   ],
   "source": [
    "print(df.isnull().sum())"
   ]
  },
  {
   "cell_type": "code",
   "execution_count": 170,
   "metadata": {},
   "outputs": [
    {
     "name": "stdout",
     "output_type": "stream",
     "text": [
      "Timestamp          0\n",
      "TransactionID      0\n",
      "AccountID          0\n",
      "Amount             0\n",
      "Merchant           0\n",
      "TransactionType    0\n",
      "Location           0\n",
      "dtype: int64\n"
     ]
    }
   ],
   "source": [
    "df = df.dropna()\n",
    "df = df.drop_duplicates()\n",
    "print(df.isnull().sum())"
   ]
  },
  {
   "cell_type": "markdown",
   "metadata": {},
   "source": [
    "## Data Preprocessing"
   ]
  },
  {
   "cell_type": "code",
   "execution_count": 171,
   "metadata": {},
   "outputs": [],
   "source": [
    "df['Timestamp'] = pd.to_datetime(df['Timestamp'], format='%d-%m-%Y %H:%M')\n",
    "\n",
    "# Sort the dataframe based on timestamp\n",
    "df = df.sort_values(by='Timestamp')"
   ]
  },
  {
   "cell_type": "code",
   "execution_count": 172,
   "metadata": {},
   "outputs": [
    {
     "data": {
      "image/png": "[encoded data removed]",
      "text/plain": [
       "<Figure size 500x300 with 1 Axes>"
      ]
     },
     "metadata": {},
     "output_type": "display_data"
    }
   ],
   "source": [
    "plt.figure(figsize=(5, 3))\n",
    "plt.plot(df['Timestamp'], df['Amount'], color='blue')\n",
    "plt.title('Transaction Amount Over Time')\n",
    "plt.xlabel('Timestamp')\n",
    "plt.ylabel('Amount')\n",
    "plt.grid(True)\n",
    "plt.show()"
   ]
  },
  {
   "cell_type": "markdown",
   "metadata": {},
   "source": [
    "### EDA"
   ]
  },
  {
   "cell_type": "code",
   "execution_count": 173,
   "metadata": {},
   "outputs": [
    {
     "name": "stdout",
     "output_type": "stream",
     "text": [
      "Timestamp          2023-05-31 23:59:00\n",
      "TransactionID                  TXN1807\n",
      "AccountID                         ACC3\n",
      "Amount                        65004.99\n",
      "Merchant                     MerchantG\n",
      "TransactionType             Withdrawal\n",
      "Location                   Los Angeles\n",
      "day_of_month                        31\n",
      "month                                5\n",
      "Name: 216959, dtype: object\n"
     ]
    }
   ],
   "source": [
    "df['day_of_month'] = df['Timestamp'].dt.day\n",
    "df['month'] = df['Timestamp'].dt.month\n",
    "print(df.iloc[-1])"
   ]
  },
  {
   "cell_type": "code",
   "execution_count": 174,
   "metadata": {},
   "outputs": [],
   "source": [
    "# Convert categorical variables into one-hot encoded features\n",
    "df = pd.get_dummies(df, columns=['TransactionType', 'Location'])"
   ]
  },
  {
   "cell_type": "code",
   "execution_count": 175,
   "metadata": {},
   "outputs": [
    {
     "name": "stdout",
     "output_type": "stream",
     "text": [
      "                 Timestamp TransactionID AccountID    Amount   Merchant  \\\n",
      "216955 2023-05-31 23:55:00       TXN1286      ACC6  62536.88  MerchantA   \n",
      "216956 2023-05-31 23:56:00       TXN1015      ACC5  68629.69  MerchantG   \n",
      "216957 2023-05-31 23:57:00       TXN1979     ACC15   8203.57  MerchantF   \n",
      "216958 2023-05-31 23:58:00       TXN1845     ACC14  77800.36  MerchantF   \n",
      "\n",
      "        day_of_month  month  TransactionType_Purchase  \\\n",
      "216955            31      5                     False   \n",
      "216956            31      5                     False   \n",
      "216957            31      5                      True   \n",
      "216958            31      5                      True   \n",
      "\n",
      "        TransactionType_Transfer  TransactionType_Withdrawal  Location_London  \\\n",
      "216955                     False                        True            False   \n",
      "216956                      True                       False             True   \n",
      "216957                     False                       False             True   \n",
      "216958                     False                       False            False   \n",
      "\n",
      "        Location_Los Angeles  Location_New York  Location_San Francisco  \\\n",
      "216955                 False              False                    True   \n",
      "216956                 False              False                   False   \n",
      "216957                 False              False                   False   \n",
      "216958                 False               True                   False   \n",
      "\n",
      "        Location_Tokyo  \n",
      "216955           False  \n",
      "216956           False  \n",
      "216957           False  \n",
      "216958           False  \n"
     ]
    }
   ],
   "source": [
    "print(df.iloc[-5:-1])"
   ]
  },
  {
   "cell_type": "code",
   "execution_count": 176,
   "metadata": {},
   "outputs": [],
   "source": [
    "# Aggregate transaction amounts by account or merchant\n",
    "# Example: Calculate total transaction amount per account\n",
    "account_total_amount = df.groupby('AccountID')['Amount'].sum()\n",
    "df = df.merge(account_total_amount, on='AccountID', suffixes=('', '_total'))"
   ]
  },
  {
   "cell_type": "code",
   "execution_count": 177,
   "metadata": {},
   "outputs": [
    {
     "name": "stdout",
     "output_type": "stream",
     "text": [
      "            Timestamp TransactionID AccountID    Amount   Merchant  \\\n",
      "0 2023-01-01 08:00:00       TXN1127      ACC4  95071.92  MerchantH   \n",
      "1 2023-01-01 08:01:00       TXN1639     ACC10  15607.89  MerchantH   \n",
      "\n",
      "   day_of_month  month  TransactionType_Purchase  TransactionType_Transfer  \\\n",
      "0             1      1                      True                     False   \n",
      "1             1      1                      True                     False   \n",
      "\n",
      "   TransactionType_Withdrawal  Location_London  Location_Los Angeles  \\\n",
      "0                       False            False                 False   \n",
      "1                       False             True                 False   \n",
      "\n",
      "   Location_New York  Location_San Francisco  Location_Tokyo  Amount_total  \n",
      "0              False                   False            True  7.173613e+08  \n",
      "1              False                   False           False  7.142212e+08  \n"
     ]
    }
   ],
   "source": [
    "print(df.head(2))"
   ]
  },
  {
   "cell_type": "code",
   "execution_count": 178,
   "metadata": {},
   "outputs": [],
   "source": [
    "# Drop unnecessary columns\n",
    "df.drop(['Timestamp', 'TransactionID'], axis=1, inplace=True)"
   ]
  },
  {
   "cell_type": "markdown",
   "metadata": {},
   "source": [
    "## Saving new features to different csv"
   ]
  },
  {
   "cell_type": "code",
   "execution_count": 179,
   "metadata": {},
   "outputs": [],
   "source": [
    "df.to_csv(r\"data\\processed_data.csv\", index=False)"
   ]
  },
  {
   "cell_type": "markdown",
   "metadata": {},
   "source": [
    "## Data preparation"
   ]
  },
  {
   "cell_type": "code",
   "execution_count": 180,
   "metadata": {},
   "outputs": [
    {
     "name": "stdout",
     "output_type": "stream",
     "text": [
      "Training data shapes: torch.Size([173568, 25]) torch.Size([173568])\n",
      "Testing data shapes: torch.Size([43392, 25]) torch.Size([43392])\n",
      "Training data shapes: torch.Size([173568, 1, 25]) torch.Size([173568])\n"
     ]
    }
   ],
   "source": [
    "df = pd.read_csv(r\"data\\processed_data.csv\")\n",
    "\n",
    "# Extract features and target\n",
    "features = df.values\n",
    "target = df['Amount'].values  # 'Amount' is the target variable\n",
    "\n",
    "X_train, X_test, y_train, y_test = train_test_split(\n",
    "    features, target, test_size=0.2, shuffle=False)\n",
    "\n",
    "# Define categorical feature indices (converting catogircal to numeric to scale)\n",
    "categorical_indices = [0, 2]  # 'AccountID' and 'Merchant'\n",
    "\n",
    "# Apply one-hot encoding to categorical features\n",
    "categorical_transformer = Pipeline(steps=[\n",
    "    ('onehot', OneHotEncoder(handle_unknown='ignore'))])\n",
    "\n",
    "# Apply standard scaling to numeric features\n",
    "numeric_transformer = Pipeline(steps=[\n",
    "    # Set with_mean=False for sparse matrices\n",
    "    ('scaler', StandardScaler(with_mean=False))])\n",
    "\n",
    "preprocessor = ColumnTransformer(\n",
    "    transformers=[\n",
    "        ('cat', categorical_transformer, categorical_indices)])\n",
    "\n",
    "# Apply preprocessing to training and testing data\n",
    "X_train_preprocessed = preprocessor.fit_transform(X_train)\n",
    "X_test_preprocessed = preprocessor.transform(X_test)\n",
    "\n",
    "# Convert the sparse array to a dense array\n",
    "X_train_preprocessed = X_train_preprocessed.toarray()\n",
    "X_test_preprocessed = X_test_preprocessed.toarray()\n",
    "\n",
    "# Standard scaling\n",
    "scaler = StandardScaler(with_mean=False)\n",
    "X_train_scaled = scaler.fit_transform(X_train_preprocessed)\n",
    "X_test_scaled = scaler.transform(X_test_preprocessed)\n",
    "\n",
    "# Convert to PyTorch tensors\n",
    "X_train_tensor = torch.tensor(X_train_scaled, dtype=torch.float32)\n",
    "X_test_tensor = torch.tensor(X_test_scaled, dtype=torch.float32)\n",
    "y_train_tensor = torch.tensor(y_train, dtype=torch.float32)\n",
    "y_test_tensor = torch.tensor(y_test, dtype=torch.float32)\n",
    "\n",
    "# Print shapes of the tensors\n",
    "print(\"Training data shapes:\", X_train_tensor.shape, y_train_tensor.shape)\n",
    "print(\"Testing data shapes:\", X_test_tensor.shape, y_test_tensor.shape)\n",
    "\n",
    "# Have to reshape data as per lstm\n",
    "X_train_tensor = X_train_tensor.unsqueeze(1)\n",
    "X_test_tensor = X_test_tensor.unsqueeze(1)\n",
    "print(\"Training data shapes:\", X_train_tensor.shape, y_train_tensor.shape)"
   ]
  },
  {
   "cell_type": "markdown",
   "metadata": {},
   "source": [
    "# LSTM-based autoencoder Model"
   ]
  },
  {
   "cell_type": "code",
   "execution_count": 181,
   "metadata": {},
   "outputs": [],
   "source": [
    "class Autoencoder(nn.Module):\n",
    "  def __init__(self, input_size, hidden_size):\n",
    "    super(Autoencoder, self).__init__()\n",
    "    self.encoder = nn.LSTM(input_size, hidden_size, batch_first=True)\n",
    "    self.decoder = nn.LSTM(hidden_size, input_size)\n",
    "\n",
    "  def forward(self, x):\n",
    "    # Encoder\n",
    "    _, (hidden, cell) = self.encoder(x)\n",
    "\n",
    "    # Latent representation\n",
    "    # Take the last hidden state as the latent representation\n",
    "    latent = hidden[-1]\n",
    "\n",
    "    # Decoder\n",
    "    # Unsqueeze to add a batch dimension\n",
    "    output, _ = self.decoder(latent.unsqueeze(0))\n",
    "    output = output.transpose(0, 1)\n",
    "\n",
    "    return output\n",
    "\n",
    "\n",
    "# input and hidden sizes\n",
    "# Number of features in data. (after one-hot, clmn size)\n",
    "input_size = num_features = 25\n",
    "hidden_size = 64  # Adjust as needed\n",
    "\n",
    "# An instance of the autoencoder model.\n",
    "autoencoder = Autoencoder(input_size, hidden_size)\n",
    "\n",
    "# loss function and optimizer\n",
    "criterion = nn.MSELoss()\n",
    "optimizer = torch.optim.Adam(autoencoder.parameters(), lr=0.001)"
   ]
  },
  {
   "cell_type": "markdown",
   "metadata": {},
   "source": [
    "## Model Training"
   ]
  },
  {
   "cell_type": "code",
   "execution_count": 182,
   "metadata": {},
   "outputs": [
    {
     "name": "stdout",
     "output_type": "stream",
     "text": [
      "Model weights loaded successfully.\n"
     ]
    }
   ],
   "source": [
    "# Define hyperparameters\n",
    "num_epochs = 10\n",
    "batch_size = 64\n",
    "patience = 3  # Number of epochs to wait for improvement\n",
    "min_delta = 0.0001  # Minimum change in loss to qualify as an improvement\n",
    "dropout_prob = 0.2  # Dropout probability\n",
    "\n",
    "# Create DataLoader objects for batch training\n",
    "train_dataset = data.TensorDataset(X_train_tensor)\n",
    "test_dataset = data.TensorDataset(X_test_tensor)\n",
    "train_loader = data.DataLoader(\n",
    "    train_dataset, batch_size=batch_size, shuffle=True)\n",
    "test_loader = data.DataLoader(test_dataset, batch_size=batch_size)\n",
    "\n",
    "# Check if the model weights file exists\n",
    "if os.path.exists('autoencoder_model.pth'):\n",
    "  # Load the existing model weights\n",
    "  autoencoder.load_state_dict(torch.load('autoencoder_model.pth'))\n",
    "  print(\"Model weights loaded successfully.\")\n",
    "else:\n",
    "  # Training loop with early stopping and model saving\n",
    "  best_loss = float('inf')\n",
    "  counter = 0\n",
    "  for epoch in range(num_epochs):\n",
    "    autoencoder.train()\n",
    "    train_loss = 0.0\n",
    "\n",
    "    for batch_idx, data in enumerate(train_loader):\n",
    "      inputs = data[0]\n",
    "      optimizer.zero_grad()\n",
    "      outputs = autoencoder(inputs)\n",
    "      loss = criterion(outputs, inputs)\n",
    "      loss.backward()\n",
    "      optimizer.step()\n",
    "      train_loss += loss.item()\n",
    "\n",
    "    train_loss /= len(train_loader.dataset)\n",
    "\n",
    "    # Validation\n",
    "    autoencoder.eval()\n",
    "    with torch.no_grad():\n",
    "      val_loss = 0.0\n",
    "      for data in test_dataset:\n",
    "        inputs = data[0]\n",
    "        outputs = autoencoder(inputs)\n",
    "        val_loss += criterion(outputs, inputs).item()\n",
    "\n",
    "      val_loss /= len(test_loader.dataset)\n",
    "\n",
    "    # Early stopping\n",
    "    if epoch == 0 or val_loss < best_loss - min_delta:\n",
    "      best_loss = val_loss\n",
    "      counter = 0\n",
    "      # Save the best model\n",
    "      torch.save(autoencoder.state_dict(), 'autoencoder_model.pth')\n",
    "    else:\n",
    "      counter += 1\n",
    "      if counter >= patience:\n",
    "        print(\"Early stopping after {} epochs without improvement.\".format(patience))\n",
    "        break\n",
    "\n",
    "    # Print training progress\n",
    "    print('Epoch [{}/{}], Train Loss: {:.4f}, Val Loss: {:.4f}'\n",
    "          .format(epoch+1, num_epochs, train_loss, val_loss))"
   ]
  },
  {
   "cell_type": "code",
   "execution_count": 183,
   "metadata": {},
   "outputs": [
    {
     "data": {
      "image/png": "[encoded data removed]",
      "text/plain": [
       "<Figure size 500x300 with 1 Axes>"
      ]
     },
     "metadata": {},
     "output_type": "display_data"
    }
   ],
   "source": [
    "# Plotting the training and validation loss curves\n",
    "plt.figure(figsize=(5, 3))\n",
    "plt.plot(train_loss, label='Training Loss', color='blue')\n",
    "plt.plot(val_loss, label='Validation Loss', color='orange')\n",
    "plt.title('Training and Validation Loss')\n",
    "plt.xlabel('Epoch')\n",
    "plt.ylabel('Loss')\n",
    "plt.legend()\n",
    "plt.grid(True)\n",
    "plt.show()"
   ]
  },
  {
   "cell_type": "markdown",
   "metadata": {},
   "source": [
    "## Testing Anomalies"
   ]
  },
  {
   "cell_type": "code",
   "execution_count": 184,
   "metadata": {},
   "outputs": [],
   "source": [
    "# Load the best model\n",
    "autoencoder.load_state_dict(torch.load('autoencoder_model.pth'))\n",
    "\n",
    "# Apply the trained model to the testing dataset and compute reconstruction errors\n",
    "reconstruction_errors = []\n",
    "with torch.no_grad():\n",
    "  autoencoder.eval()  # Set the model to evaluation mode\n",
    "  for data in test_loader:\n",
    "    inputs = data[0]  # Get inputs from the DataLoader\n",
    "    outputs = autoencoder(inputs)\n",
    "    mse_loss = criterion(outputs, inputs).item()  # Compute mean squared error\n",
    "    reconstruction_errors.append(mse_loss)\n",
    "\n",
    "# Determine a threshold for anomaly detection\n",
    "threshold = np.percentile(reconstruction_errors, 95)\n",
    "\n",
    "# Detect anomalies based on the threshold\n",
    "anomalies = [1 if error > threshold else 0 for error in reconstruction_errors]\n",
    "anomalies = np.array(anomalies)"
   ]
  },
  {
   "cell_type": "code",
   "execution_count": 185,
   "metadata": {},
   "outputs": [],
   "source": [
    "anomalies_indices = [np.where(anomalies == 1)[0]]  # Get indices of anomalies"
   ]
  },
  {
   "cell_type": "code",
   "execution_count": 186,
   "metadata": {},
   "outputs": [
    {
     "data": {
      "image/png": "[encoded data removed]",
      "text/plain": [
       "<Figure size 500x300 with 1 Axes>"
      ]
     },
     "metadata": {},
     "output_type": "display_data"
    }
   ],
   "source": [
    "# Visualize anomalies in the testing dataset\n",
    "plt.figure(figsize=(5, 3))\n",
    "plt.plot(y_test, label='Original Data', color='blue')\n",
    "plt.scatter(anomalies_indices, y_test[anomalies_indices],\n",
    "            color='red', label='Anomalies', marker='o')\n",
    "plt.title('Anomaly Detection on Testing Dataset')\n",
    "plt.xlabel('Sample Index')\n",
    "plt.ylabel('Amount')\n",
    "plt.legend()\n",
    "plt.grid(True)\n",
    "plt.show()"
   ]
  }
 ],
 "metadata": {
  "kernelspec": {
   "display_name": "Python 3",
   "language": "python",
   "name": "python3"
  },
  "language_info": {
   "codemirror_mode": {
    "name": "ipython",
    "version": 3
   },
   "file_extension": ".py",
   "mimetype": "text/x-python",
   "name": "python",
   "nbconvert_exporter": "python",
   "pygments_lexer": "ipython3",
   "version": "3.12.2"
  }
 },
 "nbformat": 4,
 "nbformat_minor": 2
}
